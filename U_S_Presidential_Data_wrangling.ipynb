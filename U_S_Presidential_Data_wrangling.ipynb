{
  "nbformat": 4,
  "nbformat_minor": 0,
  "metadata": {
    "colab": {
      "provenance": [],
      "gpuType": "T4"
    },
    "kernelspec": {
      "name": "python3",
      "display_name": "Python 3"
    },
    "language_info": {
      "name": "python"
    },
    "accelerator": "GPU"
  },
  "cells": [
    {
      "cell_type": "markdown",
      "source": [
        "## Objective :\n",
        "\n",
        "This dataset documents the start and end dates of U.S. presidential terms, including the president’s name, political party, and term duration. It is commonly used to:\n",
        "\n",
        "Teach data wrangling and date/time manipulation.\n",
        "\n",
        "Create time-based charts (e.g., timeline plots or shaded regions by party).\n",
        "\n",
        "Analyze trends in leadership, party dominance, or term lengths.\n"
      ],
      "metadata": {
        "id": "7ZYIEakgo_7j"
      }
    },
    {
      "cell_type": "markdown",
      "source": [
        "\n",
        "### Data Fetching\n",
        "A reusable function that downloads the raw text content (CSV) from a URL.\n",
        "\n",
        "Checks if the request was successful (status_code == 200), otherwise prints an error.\n",
        "\n",
        "raw_url stores the URL of the presidential.csv file.\n",
        "\n",
        "data stores the raw CSV content (as a string) fetched from GitHub"
      ],
      "metadata": {
        "id": "YWajrkGaun70"
      }
    },
    {
      "cell_type": "code",
      "execution_count": 20,
      "metadata": {
        "colab": {
          "base_uri": "https://localhost:8080/"
        },
        "id": "RxoL74uoR5Py",
        "outputId": "0743d2f5-2fbd-4905-a5d4-4f795d3ab7e8"
      },
      "outputs": [
        {
          "output_type": "stream",
          "name": "stdout",
          "text": [
            "\"name\",\"start\",\"end\",\"party\"\n",
            "\"Eisenhower\",1953-01-20,1961-01-20,\"Republican\"\n",
            "\"Kennedy\",1961-01-20,1963-11-22,\"Democratic\"\n",
            "\"Johnson\",1963-11-22,1969-01-20,\"Democratic\"\n",
            "\"Nixon\",1969-01-20,1974-08-09,\"Republican\"\n",
            "\"Ford\",1974-08-09,1977-01-20,\"Republican\"\n",
            "\"Carter\",1977-01-20,1981-01-20,\"Democratic\"\n",
            "\"Reagan\",1981-01-20,1989-01-20,\"Republican\"\n",
            "\"Bush\",1989-01-20,1993-01-20,\"Republican\"\n",
            "\"Clinton\",1993-01-20,2001-01-20,\"Democratic\"\n",
            "\"Bush\",2001-01-20,2009-01-20,\"Republican\"\n",
            "\"Obama\",2009-01-20,2017-01-20,\"Democratic\"\n",
            "\"Trump\",2017-01-20,2021-01-20,\"Republican\"\n",
            "\n"
          ]
        }
      ],
      "source": [
        "import requests\n",
        "import pandas as pd\n",
        "import numpy as np\n",
        "\n",
        "def raw_data(url):\n",
        "    response = requests.get(url)\n",
        "    if response.status_code == 200:\n",
        "        return response.text\n",
        "    else:\n",
        "        print(\"Failed to fetch data\")\n",
        "        return None\n",
        "\n",
        "raw_url = \"https://raw.githubusercontent.com/tidyverse/ggplot2/main/data-raw/presidential.csv\"\n",
        "data = raw_data(raw_url)\n",
        "\n",
        "print(data)"
      ]
    },
    {
      "cell_type": "markdown",
      "source": [
        "### Load CSV into DataFrame\n",
        "\n",
        "StringIO(data) turns the string into a file-like object so pandas can read it.\n",
        "\n",
        "parse_dates=[\"start\", \"end\"]: automatically parses the date columns.\n",
        "\n",
        "presidential: a pandas DataFrame containing structured data of U.S. presidents."
      ],
      "metadata": {
        "id": "xYVhUm9SpWMj"
      }
    },
    {
      "cell_type": "code",
      "source": [
        "from io import StringIO\n",
        "\n",
        "presidential = pd.read_csv(StringIO(data), parse_dates=[\"start\", \"end\"])\n",
        "presidential"
      ],
      "metadata": {
        "id": "nsvBD3qSR9UL",
        "colab": {
          "base_uri": "https://localhost:8080/",
          "height": 425
        },
        "outputId": "7e343928-2b9a-4f29-842f-f523f511fb9d"
      },
      "execution_count": 21,
      "outputs": [
        {
          "output_type": "execute_result",
          "data": {
            "text/plain": [
              "          name      start        end       party\n",
              "0   Eisenhower 1953-01-20 1961-01-20  Republican\n",
              "1      Kennedy 1961-01-20 1963-11-22  Democratic\n",
              "2      Johnson 1963-11-22 1969-01-20  Democratic\n",
              "3        Nixon 1969-01-20 1974-08-09  Republican\n",
              "4         Ford 1974-08-09 1977-01-20  Republican\n",
              "5       Carter 1977-01-20 1981-01-20  Democratic\n",
              "6       Reagan 1981-01-20 1989-01-20  Republican\n",
              "7         Bush 1989-01-20 1993-01-20  Republican\n",
              "8      Clinton 1993-01-20 2001-01-20  Democratic\n",
              "9         Bush 2001-01-20 2009-01-20  Republican\n",
              "10       Obama 2009-01-20 2017-01-20  Democratic\n",
              "11       Trump 2017-01-20 2021-01-20  Republican"
            ],
            "text/html": [
              "\n",
              "  <div id=\"df-9b893f50-f149-46eb-a8c5-28987b385dfb\" class=\"colab-df-container\">\n",
              "    <div>\n",
              "<style scoped>\n",
              "    .dataframe tbody tr th:only-of-type {\n",
              "        vertical-align: middle;\n",
              "    }\n",
              "\n",
              "    .dataframe tbody tr th {\n",
              "        vertical-align: top;\n",
              "    }\n",
              "\n",
              "    .dataframe thead th {\n",
              "        text-align: right;\n",
              "    }\n",
              "</style>\n",
              "<table border=\"1\" class=\"dataframe\">\n",
              "  <thead>\n",
              "    <tr style=\"text-align: right;\">\n",
              "      <th></th>\n",
              "      <th>name</th>\n",
              "      <th>start</th>\n",
              "      <th>end</th>\n",
              "      <th>party</th>\n",
              "    </tr>\n",
              "  </thead>\n",
              "  <tbody>\n",
              "    <tr>\n",
              "      <th>0</th>\n",
              "      <td>Eisenhower</td>\n",
              "      <td>1953-01-20</td>\n",
              "      <td>1961-01-20</td>\n",
              "      <td>Republican</td>\n",
              "    </tr>\n",
              "    <tr>\n",
              "      <th>1</th>\n",
              "      <td>Kennedy</td>\n",
              "      <td>1961-01-20</td>\n",
              "      <td>1963-11-22</td>\n",
              "      <td>Democratic</td>\n",
              "    </tr>\n",
              "    <tr>\n",
              "      <th>2</th>\n",
              "      <td>Johnson</td>\n",
              "      <td>1963-11-22</td>\n",
              "      <td>1969-01-20</td>\n",
              "      <td>Democratic</td>\n",
              "    </tr>\n",
              "    <tr>\n",
              "      <th>3</th>\n",
              "      <td>Nixon</td>\n",
              "      <td>1969-01-20</td>\n",
              "      <td>1974-08-09</td>\n",
              "      <td>Republican</td>\n",
              "    </tr>\n",
              "    <tr>\n",
              "      <th>4</th>\n",
              "      <td>Ford</td>\n",
              "      <td>1974-08-09</td>\n",
              "      <td>1977-01-20</td>\n",
              "      <td>Republican</td>\n",
              "    </tr>\n",
              "    <tr>\n",
              "      <th>5</th>\n",
              "      <td>Carter</td>\n",
              "      <td>1977-01-20</td>\n",
              "      <td>1981-01-20</td>\n",
              "      <td>Democratic</td>\n",
              "    </tr>\n",
              "    <tr>\n",
              "      <th>6</th>\n",
              "      <td>Reagan</td>\n",
              "      <td>1981-01-20</td>\n",
              "      <td>1989-01-20</td>\n",
              "      <td>Republican</td>\n",
              "    </tr>\n",
              "    <tr>\n",
              "      <th>7</th>\n",
              "      <td>Bush</td>\n",
              "      <td>1989-01-20</td>\n",
              "      <td>1993-01-20</td>\n",
              "      <td>Republican</td>\n",
              "    </tr>\n",
              "    <tr>\n",
              "      <th>8</th>\n",
              "      <td>Clinton</td>\n",
              "      <td>1993-01-20</td>\n",
              "      <td>2001-01-20</td>\n",
              "      <td>Democratic</td>\n",
              "    </tr>\n",
              "    <tr>\n",
              "      <th>9</th>\n",
              "      <td>Bush</td>\n",
              "      <td>2001-01-20</td>\n",
              "      <td>2009-01-20</td>\n",
              "      <td>Republican</td>\n",
              "    </tr>\n",
              "    <tr>\n",
              "      <th>10</th>\n",
              "      <td>Obama</td>\n",
              "      <td>2009-01-20</td>\n",
              "      <td>2017-01-20</td>\n",
              "      <td>Democratic</td>\n",
              "    </tr>\n",
              "    <tr>\n",
              "      <th>11</th>\n",
              "      <td>Trump</td>\n",
              "      <td>2017-01-20</td>\n",
              "      <td>2021-01-20</td>\n",
              "      <td>Republican</td>\n",
              "    </tr>\n",
              "  </tbody>\n",
              "</table>\n",
              "</div>\n",
              "    <div class=\"colab-df-buttons\">\n",
              "\n",
              "  <div class=\"colab-df-container\">\n",
              "    <button class=\"colab-df-convert\" onclick=\"convertToInteractive('df-9b893f50-f149-46eb-a8c5-28987b385dfb')\"\n",
              "            title=\"Convert this dataframe to an interactive table.\"\n",
              "            style=\"display:none;\">\n",
              "\n",
              "  <svg xmlns=\"http://www.w3.org/2000/svg\" height=\"24px\" viewBox=\"0 -960 960 960\">\n",
              "    <path d=\"M120-120v-720h720v720H120Zm60-500h600v-160H180v160Zm220 220h160v-160H400v160Zm0 220h160v-160H400v160ZM180-400h160v-160H180v160Zm440 0h160v-160H620v160ZM180-180h160v-160H180v160Zm440 0h160v-160H620v160Z\"/>\n",
              "  </svg>\n",
              "    </button>\n",
              "\n",
              "  <style>\n",
              "    .colab-df-container {\n",
              "      display:flex;\n",
              "      gap: 12px;\n",
              "    }\n",
              "\n",
              "    .colab-df-convert {\n",
              "      background-color: #E8F0FE;\n",
              "      border: none;\n",
              "      border-radius: 50%;\n",
              "      cursor: pointer;\n",
              "      display: none;\n",
              "      fill: #1967D2;\n",
              "      height: 32px;\n",
              "      padding: 0 0 0 0;\n",
              "      width: 32px;\n",
              "    }\n",
              "\n",
              "    .colab-df-convert:hover {\n",
              "      background-color: #E2EBFA;\n",
              "      box-shadow: 0px 1px 2px rgba(60, 64, 67, 0.3), 0px 1px 3px 1px rgba(60, 64, 67, 0.15);\n",
              "      fill: #174EA6;\n",
              "    }\n",
              "\n",
              "    .colab-df-buttons div {\n",
              "      margin-bottom: 4px;\n",
              "    }\n",
              "\n",
              "    [theme=dark] .colab-df-convert {\n",
              "      background-color: #3B4455;\n",
              "      fill: #D2E3FC;\n",
              "    }\n",
              "\n",
              "    [theme=dark] .colab-df-convert:hover {\n",
              "      background-color: #434B5C;\n",
              "      box-shadow: 0px 1px 3px 1px rgba(0, 0, 0, 0.15);\n",
              "      filter: drop-shadow(0px 1px 2px rgba(0, 0, 0, 0.3));\n",
              "      fill: #FFFFFF;\n",
              "    }\n",
              "  </style>\n",
              "\n",
              "    <script>\n",
              "      const buttonEl =\n",
              "        document.querySelector('#df-9b893f50-f149-46eb-a8c5-28987b385dfb button.colab-df-convert');\n",
              "      buttonEl.style.display =\n",
              "        google.colab.kernel.accessAllowed ? 'block' : 'none';\n",
              "\n",
              "      async function convertToInteractive(key) {\n",
              "        const element = document.querySelector('#df-9b893f50-f149-46eb-a8c5-28987b385dfb');\n",
              "        const dataTable =\n",
              "          await google.colab.kernel.invokeFunction('convertToInteractive',\n",
              "                                                    [key], {});\n",
              "        if (!dataTable) return;\n",
              "\n",
              "        const docLinkHtml = 'Like what you see? Visit the ' +\n",
              "          '<a target=\"_blank\" href=https://colab.research.google.com/notebooks/data_table.ipynb>data table notebook</a>'\n",
              "          + ' to learn more about interactive tables.';\n",
              "        element.innerHTML = '';\n",
              "        dataTable['output_type'] = 'display_data';\n",
              "        await google.colab.output.renderOutput(dataTable, element);\n",
              "        const docLink = document.createElement('div');\n",
              "        docLink.innerHTML = docLinkHtml;\n",
              "        element.appendChild(docLink);\n",
              "      }\n",
              "    </script>\n",
              "  </div>\n",
              "\n",
              "\n",
              "    <div id=\"df-e231b54a-56a3-4cc5-a997-07221df16e66\">\n",
              "      <button class=\"colab-df-quickchart\" onclick=\"quickchart('df-e231b54a-56a3-4cc5-a997-07221df16e66')\"\n",
              "                title=\"Suggest charts\"\n",
              "                style=\"display:none;\">\n",
              "\n",
              "<svg xmlns=\"http://www.w3.org/2000/svg\" height=\"24px\"viewBox=\"0 0 24 24\"\n",
              "     width=\"24px\">\n",
              "    <g>\n",
              "        <path d=\"M19 3H5c-1.1 0-2 .9-2 2v14c0 1.1.9 2 2 2h14c1.1 0 2-.9 2-2V5c0-1.1-.9-2-2-2zM9 17H7v-7h2v7zm4 0h-2V7h2v10zm4 0h-2v-4h2v4z\"/>\n",
              "    </g>\n",
              "</svg>\n",
              "      </button>\n",
              "\n",
              "<style>\n",
              "  .colab-df-quickchart {\n",
              "      --bg-color: #E8F0FE;\n",
              "      --fill-color: #1967D2;\n",
              "      --hover-bg-color: #E2EBFA;\n",
              "      --hover-fill-color: #174EA6;\n",
              "      --disabled-fill-color: #AAA;\n",
              "      --disabled-bg-color: #DDD;\n",
              "  }\n",
              "\n",
              "  [theme=dark] .colab-df-quickchart {\n",
              "      --bg-color: #3B4455;\n",
              "      --fill-color: #D2E3FC;\n",
              "      --hover-bg-color: #434B5C;\n",
              "      --hover-fill-color: #FFFFFF;\n",
              "      --disabled-bg-color: #3B4455;\n",
              "      --disabled-fill-color: #666;\n",
              "  }\n",
              "\n",
              "  .colab-df-quickchart {\n",
              "    background-color: var(--bg-color);\n",
              "    border: none;\n",
              "    border-radius: 50%;\n",
              "    cursor: pointer;\n",
              "    display: none;\n",
              "    fill: var(--fill-color);\n",
              "    height: 32px;\n",
              "    padding: 0;\n",
              "    width: 32px;\n",
              "  }\n",
              "\n",
              "  .colab-df-quickchart:hover {\n",
              "    background-color: var(--hover-bg-color);\n",
              "    box-shadow: 0 1px 2px rgba(60, 64, 67, 0.3), 0 1px 3px 1px rgba(60, 64, 67, 0.15);\n",
              "    fill: var(--button-hover-fill-color);\n",
              "  }\n",
              "\n",
              "  .colab-df-quickchart-complete:disabled,\n",
              "  .colab-df-quickchart-complete:disabled:hover {\n",
              "    background-color: var(--disabled-bg-color);\n",
              "    fill: var(--disabled-fill-color);\n",
              "    box-shadow: none;\n",
              "  }\n",
              "\n",
              "  .colab-df-spinner {\n",
              "    border: 2px solid var(--fill-color);\n",
              "    border-color: transparent;\n",
              "    border-bottom-color: var(--fill-color);\n",
              "    animation:\n",
              "      spin 1s steps(1) infinite;\n",
              "  }\n",
              "\n",
              "  @keyframes spin {\n",
              "    0% {\n",
              "      border-color: transparent;\n",
              "      border-bottom-color: var(--fill-color);\n",
              "      border-left-color: var(--fill-color);\n",
              "    }\n",
              "    20% {\n",
              "      border-color: transparent;\n",
              "      border-left-color: var(--fill-color);\n",
              "      border-top-color: var(--fill-color);\n",
              "    }\n",
              "    30% {\n",
              "      border-color: transparent;\n",
              "      border-left-color: var(--fill-color);\n",
              "      border-top-color: var(--fill-color);\n",
              "      border-right-color: var(--fill-color);\n",
              "    }\n",
              "    40% {\n",
              "      border-color: transparent;\n",
              "      border-right-color: var(--fill-color);\n",
              "      border-top-color: var(--fill-color);\n",
              "    }\n",
              "    60% {\n",
              "      border-color: transparent;\n",
              "      border-right-color: var(--fill-color);\n",
              "    }\n",
              "    80% {\n",
              "      border-color: transparent;\n",
              "      border-right-color: var(--fill-color);\n",
              "      border-bottom-color: var(--fill-color);\n",
              "    }\n",
              "    90% {\n",
              "      border-color: transparent;\n",
              "      border-bottom-color: var(--fill-color);\n",
              "    }\n",
              "  }\n",
              "</style>\n",
              "\n",
              "      <script>\n",
              "        async function quickchart(key) {\n",
              "          const quickchartButtonEl =\n",
              "            document.querySelector('#' + key + ' button');\n",
              "          quickchartButtonEl.disabled = true;  // To prevent multiple clicks.\n",
              "          quickchartButtonEl.classList.add('colab-df-spinner');\n",
              "          try {\n",
              "            const charts = await google.colab.kernel.invokeFunction(\n",
              "                'suggestCharts', [key], {});\n",
              "          } catch (error) {\n",
              "            console.error('Error during call to suggestCharts:', error);\n",
              "          }\n",
              "          quickchartButtonEl.classList.remove('colab-df-spinner');\n",
              "          quickchartButtonEl.classList.add('colab-df-quickchart-complete');\n",
              "        }\n",
              "        (() => {\n",
              "          let quickchartButtonEl =\n",
              "            document.querySelector('#df-e231b54a-56a3-4cc5-a997-07221df16e66 button');\n",
              "          quickchartButtonEl.style.display =\n",
              "            google.colab.kernel.accessAllowed ? 'block' : 'none';\n",
              "        })();\n",
              "      </script>\n",
              "    </div>\n",
              "\n",
              "  <div id=\"id_0b0dfe63-b0fa-4b63-b27a-2c4828979bb9\">\n",
              "    <style>\n",
              "      .colab-df-generate {\n",
              "        background-color: #E8F0FE;\n",
              "        border: none;\n",
              "        border-radius: 50%;\n",
              "        cursor: pointer;\n",
              "        display: none;\n",
              "        fill: #1967D2;\n",
              "        height: 32px;\n",
              "        padding: 0 0 0 0;\n",
              "        width: 32px;\n",
              "      }\n",
              "\n",
              "      .colab-df-generate:hover {\n",
              "        background-color: #E2EBFA;\n",
              "        box-shadow: 0px 1px 2px rgba(60, 64, 67, 0.3), 0px 1px 3px 1px rgba(60, 64, 67, 0.15);\n",
              "        fill: #174EA6;\n",
              "      }\n",
              "\n",
              "      [theme=dark] .colab-df-generate {\n",
              "        background-color: #3B4455;\n",
              "        fill: #D2E3FC;\n",
              "      }\n",
              "\n",
              "      [theme=dark] .colab-df-generate:hover {\n",
              "        background-color: #434B5C;\n",
              "        box-shadow: 0px 1px 3px 1px rgba(0, 0, 0, 0.15);\n",
              "        filter: drop-shadow(0px 1px 2px rgba(0, 0, 0, 0.3));\n",
              "        fill: #FFFFFF;\n",
              "      }\n",
              "    </style>\n",
              "    <button class=\"colab-df-generate\" onclick=\"generateWithVariable('presidential')\"\n",
              "            title=\"Generate code using this dataframe.\"\n",
              "            style=\"display:none;\">\n",
              "\n",
              "  <svg xmlns=\"http://www.w3.org/2000/svg\" height=\"24px\"viewBox=\"0 0 24 24\"\n",
              "       width=\"24px\">\n",
              "    <path d=\"M7,19H8.4L18.45,9,17,7.55,7,17.6ZM5,21V16.75L18.45,3.32a2,2,0,0,1,2.83,0l1.4,1.43a1.91,1.91,0,0,1,.58,1.4,1.91,1.91,0,0,1-.58,1.4L9.25,21ZM18.45,9,17,7.55Zm-12,3A5.31,5.31,0,0,0,4.9,8.1,5.31,5.31,0,0,0,1,6.5,5.31,5.31,0,0,0,4.9,4.9,5.31,5.31,0,0,0,6.5,1,5.31,5.31,0,0,0,8.1,4.9,5.31,5.31,0,0,0,12,6.5,5.46,5.46,0,0,0,6.5,12Z\"/>\n",
              "  </svg>\n",
              "    </button>\n",
              "    <script>\n",
              "      (() => {\n",
              "      const buttonEl =\n",
              "        document.querySelector('#id_0b0dfe63-b0fa-4b63-b27a-2c4828979bb9 button.colab-df-generate');\n",
              "      buttonEl.style.display =\n",
              "        google.colab.kernel.accessAllowed ? 'block' : 'none';\n",
              "\n",
              "      buttonEl.onclick = () => {\n",
              "        google.colab.notebook.generateWithVariable('presidential');\n",
              "      }\n",
              "      })();\n",
              "    </script>\n",
              "  </div>\n",
              "\n",
              "    </div>\n",
              "  </div>\n"
            ],
            "application/vnd.google.colaboratory.intrinsic+json": {
              "type": "dataframe",
              "variable_name": "presidential",
              "summary": "{\n  \"name\": \"presidential\",\n  \"rows\": 12,\n  \"fields\": [\n    {\n      \"column\": \"name\",\n      \"properties\": {\n        \"dtype\": \"string\",\n        \"num_unique_values\": 11,\n        \"samples\": [\n          \"Carter\",\n          \"Eisenhower\",\n          \"Obama\"\n        ],\n        \"semantic_type\": \"\",\n        \"description\": \"\"\n      }\n    },\n    {\n      \"column\": \"start\",\n      \"properties\": {\n        \"dtype\": \"date\",\n        \"min\": \"1953-01-20 00:00:00\",\n        \"max\": \"2017-01-20 00:00:00\",\n        \"num_unique_values\": 12,\n        \"samples\": [\n          \"2009-01-20 00:00:00\",\n          \"2001-01-20 00:00:00\",\n          \"1953-01-20 00:00:00\"\n        ],\n        \"semantic_type\": \"\",\n        \"description\": \"\"\n      }\n    },\n    {\n      \"column\": \"end\",\n      \"properties\": {\n        \"dtype\": \"date\",\n        \"min\": \"1961-01-20 00:00:00\",\n        \"max\": \"2021-01-20 00:00:00\",\n        \"num_unique_values\": 12,\n        \"samples\": [\n          \"2017-01-20 00:00:00\",\n          \"2009-01-20 00:00:00\",\n          \"1961-01-20 00:00:00\"\n        ],\n        \"semantic_type\": \"\",\n        \"description\": \"\"\n      }\n    },\n    {\n      \"column\": \"party\",\n      \"properties\": {\n        \"dtype\": \"category\",\n        \"num_unique_values\": 2,\n        \"samples\": [\n          \"Democratic\",\n          \"Republican\"\n        ],\n        \"semantic_type\": \"\",\n        \"description\": \"\"\n      }\n    }\n  ]\n}"
            }
          },
          "metadata": {},
          "execution_count": 21
        }
      ]
    },
    {
      "cell_type": "code",
      "source": [
        "# Sort by start date\n",
        "presidential = presidential.sort_values(\"start\")\n",
        "\n",
        "# Set color palette\n",
        "party_colors = {\n",
        "    \"Republican\": \"#E91D0E\",\n",
        "    \"Democratic\": \"#0D71E9\"\n",
        "}\n",
        "\n",
        "# Plot\n",
        "plt.figure(figsize=(10, 6))\n",
        "for i, row in presidential.iterrows():\n",
        "    plt.barh(row[\"name\"], (row[\"end\"] - row[\"start\"]).days, left=row[\"start\"], color=party_colors[row[\"party\"]])\n",
        "\n",
        "plt.xlabel(\"Year\")\n",
        "plt.title(\"US Presidents Timeline by Party\")\n",
        "plt.tight_layout()\n",
        "plt.show()"
      ],
      "metadata": {
        "colab": {
          "base_uri": "https://localhost:8080/",
          "height": 479
        },
        "id": "odkNaRKntcxS",
        "outputId": "38d1333c-fc9e-4652-8e20-75d49fba16b7"
      },
      "execution_count": 36,
      "outputs": [
        {
          "output_type": "display_data",
          "data": {
            "text/plain": [
              "<Figure size 1000x600 with 1 Axes>"
            ],
            "image/png": "[encoded data removed]"
          },
          "metadata": {}
        }
      ]
    },
    {
      "cell_type": "markdown",
      "source": [
        ".info() gives summary of columns, non-null counts, and data types."
      ],
      "metadata": {
        "id": "1Ka5HPlApdMj"
      }
    },
    {
      "cell_type": "code",
      "source": [
        "presidential.info()"
      ],
      "metadata": {
        "colab": {
          "base_uri": "https://localhost:8080/"
        },
        "id": "Q1TWnadDZ2Ef",
        "outputId": "c8474baf-9309-40ef-ff0b-7dd5952f483b"
      },
      "execution_count": 22,
      "outputs": [
        {
          "output_type": "stream",
          "name": "stdout",
          "text": [
            "<class 'pandas.core.frame.DataFrame'>\n",
            "RangeIndex: 12 entries, 0 to 11\n",
            "Data columns (total 4 columns):\n",
            " #   Column  Non-Null Count  Dtype         \n",
            "---  ------  --------------  -----         \n",
            " 0   name    12 non-null     object        \n",
            " 1   start   12 non-null     datetime64[ns]\n",
            " 2   end     12 non-null     datetime64[ns]\n",
            " 3   party   12 non-null     object        \n",
            "dtypes: datetime64[ns](2), object(2)\n",
            "memory usage: 516.0+ bytes\n"
          ]
        }
      ]
    },
    {
      "cell_type": "markdown",
      "source": [
        "[['name', 'party']]: selects specific columns to view."
      ],
      "metadata": {
        "id": "AcALgTQDphEN"
      }
    },
    {
      "cell_type": "code",
      "source": [
        "print(presidential[['name', 'party']])"
      ],
      "metadata": {
        "colab": {
          "base_uri": "https://localhost:8080/"
        },
        "id": "_ZkPs1h_Z3wA",
        "outputId": "76fbfbd1-bc0b-47d4-dc31-90f24a067862"
      },
      "execution_count": 23,
      "outputs": [
        {
          "output_type": "stream",
          "name": "stdout",
          "text": [
            "          name       party\n",
            "0   Eisenhower  Republican\n",
            "1      Kennedy  Democratic\n",
            "2      Johnson  Democratic\n",
            "3        Nixon  Republican\n",
            "4         Ford  Republican\n",
            "5       Carter  Democratic\n",
            "6       Reagan  Republican\n",
            "7         Bush  Republican\n",
            "8      Clinton  Democratic\n",
            "9         Bush  Republican\n",
            "10       Obama  Democratic\n",
            "11       Trump  Republican\n"
          ]
        }
      ]
    },
    {
      "cell_type": "markdown",
      "source": [
        "Filters rows for presidents from the Republican party."
      ],
      "metadata": {
        "id": "ww2m3-1opkKl"
      }
    },
    {
      "cell_type": "code",
      "source": [
        "print(presidential[presidential['party'] == 'Republican'])"
      ],
      "metadata": {
        "colab": {
          "base_uri": "https://localhost:8080/"
        },
        "id": "mCqXVrYIZ4zm",
        "outputId": "01474ece-4777-411e-f8ea-105cbcb95cc9"
      },
      "execution_count": 24,
      "outputs": [
        {
          "output_type": "stream",
          "name": "stdout",
          "text": [
            "          name      start        end       party\n",
            "0   Eisenhower 1953-01-20 1961-01-20  Republican\n",
            "3        Nixon 1969-01-20 1974-08-09  Republican\n",
            "4         Ford 1974-08-09 1977-01-20  Republican\n",
            "6       Reagan 1981-01-20 1989-01-20  Republican\n",
            "7         Bush 1989-01-20 1993-01-20  Republican\n",
            "9         Bush 2001-01-20 2009-01-20  Republican\n",
            "11       Trump 2017-01-20 2021-01-20  Republican\n"
          ]
        }
      ]
    },
    {
      "cell_type": "markdown",
      "source": [
        "### Conditional Filtering: Democrats After 1973\n",
        "\n",
        "Filters Democratic presidents who started their term after 1973.\n",
        "\n",
        "Shows only their names."
      ],
      "metadata": {
        "id": "XXRc6rGCpmYz"
      }
    },
    {
      "cell_type": "code",
      "source": [
        "presidential_wt_dem = presidential[(presidential['start'].dt.year > 1973) & (presidential['party'] == 'Democratic')]\n",
        "print(presidential_wt_dem[['name']])"
      ],
      "metadata": {
        "colab": {
          "base_uri": "https://localhost:8080/"
        },
        "id": "iH6YccWYZ7rl",
        "outputId": "cacc7779-4586-43aa-a556-b719aad5d5ad"
      },
      "execution_count": 25,
      "outputs": [
        {
          "output_type": "stream",
          "name": "stdout",
          "text": [
            "       name\n",
            "5    Carter\n",
            "8   Clinton\n",
            "10    Obama\n"
          ]
        }
      ]
    },
    {
      "cell_type": "markdown",
      "source": [
        "### Calculate Term Length\n",
        "\n",
        "Calculates length of each presidential term in years.\n",
        "\n",
        "Uses .dt.days to get number of days and divides by 365.25 (accounts for leap years).\n",
        "\n",
        "Adds a new column term.length."
      ],
      "metadata": {
        "id": "LODEjUNNpznL"
      }
    },
    {
      "cell_type": "code",
      "source": [
        "presidential['term.length'] = ((presidential['end'] - presidential['start']).dt.days / 365.25).round(2)\n",
        "print(presidential)"
      ],
      "metadata": {
        "colab": {
          "base_uri": "https://localhost:8080/"
        },
        "id": "_smkeKZoZ9yJ",
        "outputId": "ef1f4104-8fd9-43c3-fde7-bba58a684db0"
      },
      "execution_count": 26,
      "outputs": [
        {
          "output_type": "stream",
          "name": "stdout",
          "text": [
            "          name      start        end       party  term.length\n",
            "0   Eisenhower 1953-01-20 1961-01-20  Republican         8.00\n",
            "1      Kennedy 1961-01-20 1963-11-22  Democratic         2.84\n",
            "2      Johnson 1963-11-22 1969-01-20  Democratic         5.16\n",
            "3        Nixon 1969-01-20 1974-08-09  Republican         5.55\n",
            "4         Ford 1974-08-09 1977-01-20  Republican         2.45\n",
            "5       Carter 1977-01-20 1981-01-20  Democratic         4.00\n",
            "6       Reagan 1981-01-20 1989-01-20  Republican         8.00\n",
            "7         Bush 1989-01-20 1993-01-20  Republican         4.00\n",
            "8      Clinton 1993-01-20 2001-01-20  Democratic         8.00\n",
            "9         Bush 2001-01-20 2009-01-20  Republican         8.00\n",
            "10       Obama 2009-01-20 2017-01-20  Democratic         8.00\n",
            "11       Trump 2017-01-20 2021-01-20  Republican         4.00\n"
          ]
        }
      ]
    },
    {
      "cell_type": "markdown",
      "source": [
        "### Add 'Elected' Year Column\n",
        "\n",
        "Creates a new column elected = one year before the term started.\n",
        "\n",
        "In the U.S., elections are typically held the year before the president assumes office"
      ],
      "metadata": {
        "id": "YkJ0Dz3Vp_2i"
      }
    },
    {
      "cell_type": "code",
      "source": [
        "presidential['elected'] = (presidential['start'].dt.year) -1\n",
        "print(presidential)"
      ],
      "metadata": {
        "colab": {
          "base_uri": "https://localhost:8080/"
        },
        "id": "fZBMNsEbaJg4",
        "outputId": "4e0f5757-d1b1-4730-d477-61b584320e2b"
      },
      "execution_count": 27,
      "outputs": [
        {
          "output_type": "stream",
          "name": "stdout",
          "text": [
            "          name      start        end       party  term.length  elected\n",
            "0   Eisenhower 1953-01-20 1961-01-20  Republican         8.00     1952\n",
            "1      Kennedy 1961-01-20 1963-11-22  Democratic         2.84     1960\n",
            "2      Johnson 1963-11-22 1969-01-20  Democratic         5.16     1962\n",
            "3        Nixon 1969-01-20 1974-08-09  Republican         5.55     1968\n",
            "4         Ford 1974-08-09 1977-01-20  Republican         2.45     1973\n",
            "5       Carter 1977-01-20 1981-01-20  Democratic         4.00     1976\n",
            "6       Reagan 1981-01-20 1989-01-20  Republican         8.00     1980\n",
            "7         Bush 1989-01-20 1993-01-20  Republican         4.00     1988\n",
            "8      Clinton 1993-01-20 2001-01-20  Democratic         8.00     1992\n",
            "9         Bush 2001-01-20 2009-01-20  Republican         8.00     2000\n",
            "10       Obama 2009-01-20 2017-01-20  Democratic         8.00     2008\n",
            "11       Trump 2017-01-20 2021-01-20  Republican         4.00     2016\n"
          ]
        }
      ]
    },
    {
      "cell_type": "markdown",
      "source": [
        "### Handle Anomalies in 'Elected' Column\n",
        "\n",
        "Replaces certain invalid or non-standard elected years (1962 and 1973) with NaN (missing value).\n",
        "\n",
        "These may correspond to presidents who took office unexpectedly (e.g., after resignation or death)."
      ],
      "metadata": {
        "id": "-n4XceDjqUBQ"
      }
    },
    {
      "cell_type": "code",
      "source": [
        "presidential.loc[presidential['elected'].isin([1962, 1973]), 'elected'] = np.nan\n",
        "print(presidential)"
      ],
      "metadata": {
        "colab": {
          "base_uri": "https://localhost:8080/"
        },
        "id": "dfyp0JuaaLa-",
        "outputId": "92055cb8-bcf7-48ae-b4a6-6cc23b317134"
      },
      "execution_count": 28,
      "outputs": [
        {
          "output_type": "stream",
          "name": "stdout",
          "text": [
            "          name      start        end       party  term.length  elected\n",
            "0   Eisenhower 1953-01-20 1961-01-20  Republican         8.00   1952.0\n",
            "1      Kennedy 1961-01-20 1963-11-22  Democratic         2.84   1960.0\n",
            "2      Johnson 1963-11-22 1969-01-20  Democratic         5.16      NaN\n",
            "3        Nixon 1969-01-20 1974-08-09  Republican         5.55   1968.0\n",
            "4         Ford 1974-08-09 1977-01-20  Republican         2.45      NaN\n",
            "5       Carter 1977-01-20 1981-01-20  Democratic         4.00   1976.0\n",
            "6       Reagan 1981-01-20 1989-01-20  Republican         8.00   1980.0\n",
            "7         Bush 1989-01-20 1993-01-20  Republican         4.00   1988.0\n",
            "8      Clinton 1993-01-20 2001-01-20  Democratic         8.00   1992.0\n",
            "9         Bush 2001-01-20 2009-01-20  Republican         8.00   2000.0\n",
            "10       Obama 2009-01-20 2017-01-20  Democratic         8.00   2008.0\n",
            "11       Trump 2017-01-20 2021-01-20  Republican         4.00   2016.0\n"
          ]
        }
      ]
    },
    {
      "cell_type": "markdown",
      "source": [
        "Renames the column term.length to term_length for Python-friendly syntax and consistency with naming conventions (no dot notation)."
      ],
      "metadata": {
        "id": "LGwOxydiqorw"
      }
    },
    {
      "cell_type": "code",
      "source": [
        "presidential.rename(columns = {'term.length' : 'term_length'}, inplace = True)\n",
        "print(presidential)"
      ],
      "metadata": {
        "colab": {
          "base_uri": "https://localhost:8080/"
        },
        "id": "wwqrUU65aNHC",
        "outputId": "a0a324b1-28ca-4475-d1a9-5d0847072e53"
      },
      "execution_count": 29,
      "outputs": [
        {
          "output_type": "stream",
          "name": "stdout",
          "text": [
            "          name      start        end       party  term_length  elected\n",
            "0   Eisenhower 1953-01-20 1961-01-20  Republican         8.00   1952.0\n",
            "1      Kennedy 1961-01-20 1963-11-22  Democratic         2.84   1960.0\n",
            "2      Johnson 1963-11-22 1969-01-20  Democratic         5.16      NaN\n",
            "3        Nixon 1969-01-20 1974-08-09  Republican         5.55   1968.0\n",
            "4         Ford 1974-08-09 1977-01-20  Republican         2.45      NaN\n",
            "5       Carter 1977-01-20 1981-01-20  Democratic         4.00   1976.0\n",
            "6       Reagan 1981-01-20 1989-01-20  Republican         8.00   1980.0\n",
            "7         Bush 1989-01-20 1993-01-20  Republican         4.00   1988.0\n",
            "8      Clinton 1993-01-20 2001-01-20  Democratic         8.00   1992.0\n",
            "9         Bush 2001-01-20 2009-01-20  Republican         8.00   2000.0\n",
            "10       Obama 2009-01-20 2017-01-20  Democratic         8.00   2008.0\n",
            "11       Trump 2017-01-20 2021-01-20  Republican         4.00   2016.0\n"
          ]
        }
      ]
    },
    {
      "cell_type": "markdown",
      "source": [
        "Displays the updated DataFrame.\n",
        "\n",
        "First sort: Shows presidents sorted by longest term (descending)."
      ],
      "metadata": {
        "id": "p4Ru5TpVqwD8"
      }
    },
    {
      "cell_type": "code",
      "source": [
        "print(presidential.sort_values(by = ['term_length'], ascending = False))"
      ],
      "metadata": {
        "colab": {
          "base_uri": "https://localhost:8080/"
        },
        "id": "JGnR2MXmaOd-",
        "outputId": "182d0051-e971-4976-962f-f1d70f5e4e10"
      },
      "execution_count": 30,
      "outputs": [
        {
          "output_type": "stream",
          "name": "stdout",
          "text": [
            "          name      start        end       party  term_length  elected\n",
            "0   Eisenhower 1953-01-20 1961-01-20  Republican         8.00   1952.0\n",
            "9         Bush 2001-01-20 2009-01-20  Republican         8.00   2000.0\n",
            "10       Obama 2009-01-20 2017-01-20  Democratic         8.00   2008.0\n",
            "6       Reagan 1981-01-20 1989-01-20  Republican         8.00   1980.0\n",
            "8      Clinton 1993-01-20 2001-01-20  Democratic         8.00   1992.0\n",
            "3        Nixon 1969-01-20 1974-08-09  Republican         5.55   1968.0\n",
            "2      Johnson 1963-11-22 1969-01-20  Democratic         5.16      NaN\n",
            "5       Carter 1977-01-20 1981-01-20  Democratic         4.00   1976.0\n",
            "11       Trump 2017-01-20 2021-01-20  Republican         4.00   2016.0\n",
            "7         Bush 1989-01-20 1993-01-20  Republican         4.00   1988.0\n",
            "1      Kennedy 1961-01-20 1963-11-22  Democratic         2.84   1960.0\n",
            "4         Ford 1974-08-09 1977-01-20  Republican         2.45      NaN\n"
          ]
        }
      ]
    },
    {
      "cell_type": "markdown",
      "source": [
        "Second sort: Adds tie-breaking sort by:\n",
        "- Party (alphabetically),\n",
        "- Election year (earlier years first)."
      ],
      "metadata": {
        "id": "GWcMPc4OrITS"
      }
    },
    {
      "cell_type": "code",
      "source": [
        "print(presidential.sort_values(by = ['term_length', 'party', 'elected'], ascending = [False, True, True]))"
      ],
      "metadata": {
        "colab": {
          "base_uri": "https://localhost:8080/"
        },
        "id": "ENuxHhxaaQC5",
        "outputId": "d1fdaa8f-e29b-48a4-9923-0125b6af3afe"
      },
      "execution_count": 31,
      "outputs": [
        {
          "output_type": "stream",
          "name": "stdout",
          "text": [
            "          name      start        end       party  term_length  elected\n",
            "8      Clinton 1993-01-20 2001-01-20  Democratic         8.00   1992.0\n",
            "10       Obama 2009-01-20 2017-01-20  Democratic         8.00   2008.0\n",
            "0   Eisenhower 1953-01-20 1961-01-20  Republican         8.00   1952.0\n",
            "6       Reagan 1981-01-20 1989-01-20  Republican         8.00   1980.0\n",
            "9         Bush 2001-01-20 2009-01-20  Republican         8.00   2000.0\n",
            "3        Nixon 1969-01-20 1974-08-09  Republican         5.55   1968.0\n",
            "2      Johnson 1963-11-22 1969-01-20  Democratic         5.16      NaN\n",
            "5       Carter 1977-01-20 1981-01-20  Democratic         4.00   1976.0\n",
            "7         Bush 1989-01-20 1993-01-20  Republican         4.00   1988.0\n",
            "11       Trump 2017-01-20 2021-01-20  Republican         4.00   2016.0\n",
            "1      Kennedy 1961-01-20 1963-11-22  Democratic         2.84   1960.0\n",
            "4         Ford 1974-08-09 1977-01-20  Republican         2.45      NaN\n"
          ]
        }
      ]
    },
    {
      "cell_type": "markdown",
      "source": [
        "N: Total number of presidents.\n",
        "\n",
        "first_year: Earliest term start year.\n",
        "\n",
        "last_yeaer: Latest term end year (note: typo in \"last_yeaer\").\n",
        "\n",
        "num_DEMS: Number of Democratic presidents.\n",
        "\n",
        "years: Total number of presidential years (sum of all term lengths).\n",
        "\n",
        "avg_term_length: Average term length (in years), rounded to 2 decimals."
      ],
      "metadata": {
        "id": "LT5x5eMnriH7"
      }
    },
    {
      "cell_type": "code",
      "source": [
        "summary = {\n",
        "    'N' : [presidential.name.count()],\n",
        "    'first_year' : [(presidential.start.dt.year).min()],\n",
        "    'last_year' : [(presidential.end.dt.year).max()],\n",
        "    'num_DEMS' : [(presidential[presidential.party == 'Democratic']['party']).count()],\n",
        "    'years' : [presidential.term_length.sum()],\n",
        "    'avg_term_length' : [round(presidential.term_length.mean(), 2)]\n",
        "}\n",
        "\n",
        "summary = pd.DataFrame(summary, index = ['summary'])\n",
        "print(summary)"
      ],
      "metadata": {
        "colab": {
          "base_uri": "https://localhost:8080/"
        },
        "id": "w91A2fBPaRwZ",
        "outputId": "35eb9c87-1f01-4932-f65d-a7994ad90932"
      },
      "execution_count": 32,
      "outputs": [
        {
          "output_type": "stream",
          "name": "stdout",
          "text": [
            "          N  first_year  last_year  num_DEMS  years  avg_term_length\n",
            "summary  12        1953       2021         5   68.0             5.67\n"
          ]
        }
      ]
    },
    {
      "cell_type": "markdown",
      "source": [
        "### Subset by Party\n",
        "\n",
        "Creates two separate DataFrames for Democratic and Republican presidents.\n",
        "\n",
        "Builds similar summaries for each political party:\n",
        "Number of presidents (N), First and last years in office, Total years served, Average term length.\n",
        "\n",
        "Merges the two party-specific summaries into one table.\n",
        "\n",
        "Sets index names to clearly identify rows by party."
      ],
      "metadata": {
        "id": "T0Z-Z0EErmDb"
      }
    },
    {
      "cell_type": "code",
      "source": [
        "presidential_DEM = presidential[presidential.party == 'Democratic']\n",
        "presidential_REP = presidential[presidential.party == 'Republican']\n",
        "\n",
        "\n",
        "summary_DEM = {\n",
        "    'N' : [presidential_DEM.name.count()],\n",
        "    'first_year' : [(presidential_DEM.start.dt.year).min()],\n",
        "    'last_year' : [(presidential_DEM.end.dt.year).max()],\n",
        "    'years' : [presidential_DEM.term_length.sum()],\n",
        "    'avg_term_length' : [round(presidential_DEM.term_length.mean(), 2)]\n",
        "}\n",
        "summary_DEM = pd.DataFrame(summary_DEM)\n",
        "\n",
        "\n",
        "summary_REP = {\n",
        "    'N' : [presidential_REP.name.count()],\n",
        "    'first_year' : [(presidential_REP.start.dt.year).min()],\n",
        "    'last_year' : [(presidential_REP.end.dt.year).max()],\n",
        "    'years' : [presidential_REP.term_length.sum()],\n",
        "    'avg_term_length' : [round(presidential_REP.term_length.mean(), 2)]\n",
        "}\n",
        "summary_REP = pd.DataFrame(summary_REP)\n",
        "\n",
        "\n",
        "summary_DEM_REP = pd.concat([summary_DEM, summary_REP], axis = 0, ignore_index =True)\n",
        "summary_DEM_REP.index = ['DEMOCRATIC','REPUBLICAN']\n",
        "print(summary_DEM_REP)"
      ],
      "metadata": {
        "colab": {
          "base_uri": "https://localhost:8080/"
        },
        "id": "tof0JwQ_aS-u",
        "outputId": "6c1b58f1-2776-41d3-b69a-6f6d96ceb24b"
      },
      "execution_count": 33,
      "outputs": [
        {
          "output_type": "stream",
          "name": "stdout",
          "text": [
            "            N  first_year  last_year  years  avg_term_length\n",
            "DEMOCRATIC  5        1961       2017   28.0             5.60\n",
            "REPUBLICAN  7        1953       2021   40.0             5.71\n"
          ]
        }
      ]
    },
    {
      "cell_type": "markdown",
      "source": [
        "### Conclusion\n",
        "\n",
        "Republicans have held the presidency for a longer total duration (40 years) compared to Democrats (28 years) since the 1950s.\n",
        "\n",
        "The average term length is slightly higher for Republicans (5.71 years) than Democrats (5.60 years), indicating comparable presidential tenure across parties.\n",
        "\n",
        "The data suggests a relatively balanced pattern of power shifts between the two major U.S. parties, with Republicans having a slight edge in both count and cumulative duration during this period."
      ],
      "metadata": {
        "id": "0rMj1Bgnu3V9"
      }
    },
    {
      "cell_type": "code",
      "source": [],
      "metadata": {
        "id": "Qj4IWMxBu4_q"
      },
      "execution_count": null,
      "outputs": []
    }
  ]
}